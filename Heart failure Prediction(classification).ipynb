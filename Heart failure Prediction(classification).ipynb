{
 "cells": [
  {
   "cell_type": "code",
   "execution_count": 1,
   "metadata": {},
   "outputs": [],
   "source": [
    "import pandas as pd\n",
    "import numpy as np\n",
    "import seaborn as sns\n",
    "import matplotlib.pyplot as plt"
   ]
  },
  {
   "cell_type": "code",
   "execution_count": 3,
   "metadata": {},
   "outputs": [],
   "source": [
    "df = pd.read_csv(\"heart.csv\")"
   ]
  },
  {
   "cell_type": "code",
   "execution_count": 5,
   "metadata": {},
   "outputs": [
    {
     "data": {
      "text/html": [
       "<div>\n",
       "<style scoped>\n",
       "    .dataframe tbody tr th:only-of-type {\n",
       "        vertical-align: middle;\n",
       "    }\n",
       "\n",
       "    .dataframe tbody tr th {\n",
       "        vertical-align: top;\n",
       "    }\n",
       "\n",
       "    .dataframe thead th {\n",
       "        text-align: right;\n",
       "    }\n",
       "</style>\n",
       "<table border=\"1\" class=\"dataframe\">\n",
       "  <thead>\n",
       "    <tr style=\"text-align: right;\">\n",
       "      <th></th>\n",
       "      <th>Age</th>\n",
       "      <th>Sex</th>\n",
       "      <th>ChestPainType</th>\n",
       "      <th>RestingBP</th>\n",
       "      <th>Cholesterol</th>\n",
       "      <th>FastingBS</th>\n",
       "      <th>RestingECG</th>\n",
       "      <th>MaxHR</th>\n",
       "      <th>ExerciseAngina</th>\n",
       "      <th>Oldpeak</th>\n",
       "      <th>ST_Slope</th>\n",
       "      <th>HeartDisease</th>\n",
       "    </tr>\n",
       "  </thead>\n",
       "  <tbody>\n",
       "    <tr>\n",
       "      <th>0</th>\n",
       "      <td>40</td>\n",
       "      <td>M</td>\n",
       "      <td>ATA</td>\n",
       "      <td>140</td>\n",
       "      <td>289</td>\n",
       "      <td>0</td>\n",
       "      <td>Normal</td>\n",
       "      <td>172</td>\n",
       "      <td>N</td>\n",
       "      <td>0.0</td>\n",
       "      <td>Up</td>\n",
       "      <td>0</td>\n",
       "    </tr>\n",
       "    <tr>\n",
       "      <th>1</th>\n",
       "      <td>49</td>\n",
       "      <td>F</td>\n",
       "      <td>NAP</td>\n",
       "      <td>160</td>\n",
       "      <td>180</td>\n",
       "      <td>0</td>\n",
       "      <td>Normal</td>\n",
       "      <td>156</td>\n",
       "      <td>N</td>\n",
       "      <td>1.0</td>\n",
       "      <td>Flat</td>\n",
       "      <td>1</td>\n",
       "    </tr>\n",
       "    <tr>\n",
       "      <th>2</th>\n",
       "      <td>37</td>\n",
       "      <td>M</td>\n",
       "      <td>ATA</td>\n",
       "      <td>130</td>\n",
       "      <td>283</td>\n",
       "      <td>0</td>\n",
       "      <td>ST</td>\n",
       "      <td>98</td>\n",
       "      <td>N</td>\n",
       "      <td>0.0</td>\n",
       "      <td>Up</td>\n",
       "      <td>0</td>\n",
       "    </tr>\n",
       "    <tr>\n",
       "      <th>3</th>\n",
       "      <td>48</td>\n",
       "      <td>F</td>\n",
       "      <td>ASY</td>\n",
       "      <td>138</td>\n",
       "      <td>214</td>\n",
       "      <td>0</td>\n",
       "      <td>Normal</td>\n",
       "      <td>108</td>\n",
       "      <td>Y</td>\n",
       "      <td>1.5</td>\n",
       "      <td>Flat</td>\n",
       "      <td>1</td>\n",
       "    </tr>\n",
       "    <tr>\n",
       "      <th>4</th>\n",
       "      <td>54</td>\n",
       "      <td>M</td>\n",
       "      <td>NAP</td>\n",
       "      <td>150</td>\n",
       "      <td>195</td>\n",
       "      <td>0</td>\n",
       "      <td>Normal</td>\n",
       "      <td>122</td>\n",
       "      <td>N</td>\n",
       "      <td>0.0</td>\n",
       "      <td>Up</td>\n",
       "      <td>0</td>\n",
       "    </tr>\n",
       "    <tr>\n",
       "      <th>5</th>\n",
       "      <td>39</td>\n",
       "      <td>M</td>\n",
       "      <td>NAP</td>\n",
       "      <td>120</td>\n",
       "      <td>339</td>\n",
       "      <td>0</td>\n",
       "      <td>Normal</td>\n",
       "      <td>170</td>\n",
       "      <td>N</td>\n",
       "      <td>0.0</td>\n",
       "      <td>Up</td>\n",
       "      <td>0</td>\n",
       "    </tr>\n",
       "    <tr>\n",
       "      <th>6</th>\n",
       "      <td>45</td>\n",
       "      <td>F</td>\n",
       "      <td>ATA</td>\n",
       "      <td>130</td>\n",
       "      <td>237</td>\n",
       "      <td>0</td>\n",
       "      <td>Normal</td>\n",
       "      <td>170</td>\n",
       "      <td>N</td>\n",
       "      <td>0.0</td>\n",
       "      <td>Up</td>\n",
       "      <td>0</td>\n",
       "    </tr>\n",
       "    <tr>\n",
       "      <th>7</th>\n",
       "      <td>54</td>\n",
       "      <td>M</td>\n",
       "      <td>ATA</td>\n",
       "      <td>110</td>\n",
       "      <td>208</td>\n",
       "      <td>0</td>\n",
       "      <td>Normal</td>\n",
       "      <td>142</td>\n",
       "      <td>N</td>\n",
       "      <td>0.0</td>\n",
       "      <td>Up</td>\n",
       "      <td>0</td>\n",
       "    </tr>\n",
       "    <tr>\n",
       "      <th>8</th>\n",
       "      <td>37</td>\n",
       "      <td>M</td>\n",
       "      <td>ASY</td>\n",
       "      <td>140</td>\n",
       "      <td>207</td>\n",
       "      <td>0</td>\n",
       "      <td>Normal</td>\n",
       "      <td>130</td>\n",
       "      <td>Y</td>\n",
       "      <td>1.5</td>\n",
       "      <td>Flat</td>\n",
       "      <td>1</td>\n",
       "    </tr>\n",
       "    <tr>\n",
       "      <th>9</th>\n",
       "      <td>48</td>\n",
       "      <td>F</td>\n",
       "      <td>ATA</td>\n",
       "      <td>120</td>\n",
       "      <td>284</td>\n",
       "      <td>0</td>\n",
       "      <td>Normal</td>\n",
       "      <td>120</td>\n",
       "      <td>N</td>\n",
       "      <td>0.0</td>\n",
       "      <td>Up</td>\n",
       "      <td>0</td>\n",
       "    </tr>\n",
       "  </tbody>\n",
       "</table>\n",
       "</div>"
      ],
      "text/plain": [
       "   Age Sex ChestPainType  RestingBP  Cholesterol  FastingBS RestingECG  MaxHR  \\\n",
       "0   40   M           ATA        140          289          0     Normal    172   \n",
       "1   49   F           NAP        160          180          0     Normal    156   \n",
       "2   37   M           ATA        130          283          0         ST     98   \n",
       "3   48   F           ASY        138          214          0     Normal    108   \n",
       "4   54   M           NAP        150          195          0     Normal    122   \n",
       "5   39   M           NAP        120          339          0     Normal    170   \n",
       "6   45   F           ATA        130          237          0     Normal    170   \n",
       "7   54   M           ATA        110          208          0     Normal    142   \n",
       "8   37   M           ASY        140          207          0     Normal    130   \n",
       "9   48   F           ATA        120          284          0     Normal    120   \n",
       "\n",
       "  ExerciseAngina  Oldpeak ST_Slope  HeartDisease  \n",
       "0              N      0.0       Up             0  \n",
       "1              N      1.0     Flat             1  \n",
       "2              N      0.0       Up             0  \n",
       "3              Y      1.5     Flat             1  \n",
       "4              N      0.0       Up             0  \n",
       "5              N      0.0       Up             0  \n",
       "6              N      0.0       Up             0  \n",
       "7              N      0.0       Up             0  \n",
       "8              Y      1.5     Flat             1  \n",
       "9              N      0.0       Up             0  "
      ]
     },
     "execution_count": 5,
     "metadata": {},
     "output_type": "execute_result"
    }
   ],
   "source": [
    "df.head(10)"
   ]
  },
  {
   "cell_type": "code",
   "execution_count": 49,
   "metadata": {},
   "outputs": [
    {
     "data": {
      "text/plain": [
       "Age               0\n",
       "Sex               0\n",
       "ChestPainType     0\n",
       "RestingBP         0\n",
       "Cholesterol       0\n",
       "FastingBS         0\n",
       "RestingECG        0\n",
       "MaxHR             0\n",
       "ExerciseAngina    0\n",
       "Oldpeak           0\n",
       "ST_Slope          0\n",
       "HeartDisease      0\n",
       "dtype: int64"
      ]
     },
     "execution_count": 49,
     "metadata": {},
     "output_type": "execute_result"
    }
   ],
   "source": [
    "df.isnull().sum()"
   ]
  },
  {
   "cell_type": "code",
   "execution_count": 51,
   "metadata": {},
   "outputs": [
    {
     "data": {
      "text/plain": [
       "<AxesSubplot:xlabel='RestingECG', ylabel='count'>"
      ]
     },
     "execution_count": 51,
     "metadata": {},
     "output_type": "execute_result"
    },
    {
     "data": {
      "image/png": "[encoded data removed]",
      "text/plain": [
       "<Figure size 432x288 with 1 Axes>"
      ]
     },
     "metadata": {
      "needs_background": "light"
     },
     "output_type": "display_data"
    }
   ],
   "source": [
    "sns.countplot(x='RestingECG',hue = 'HeartDisease',data=df, palette = \"crest_r\")"
   ]
  },
  {
   "cell_type": "code",
   "execution_count": 53,
   "metadata": {},
   "outputs": [
    {
     "data": {
      "text/plain": [
       "<AxesSubplot:xlabel='ST_Slope', ylabel='count'>"
      ]
     },
     "execution_count": 53,
     "metadata": {},
     "output_type": "execute_result"
    },
    {
     "data": {
      "image/png": "[encoded data removed]",
      "text/plain": [
       "<Figure size 432x288 with 1 Axes>"
      ]
     },
     "metadata": {
      "needs_background": "light"
     },
     "output_type": "display_data"
    }
   ],
   "source": [
    "sns.countplot(x='ST_Slope',hue = 'HeartDisease',data=df, palette = \"twilight_shifted_r\")"
   ]
  },
  {
   "cell_type": "code",
   "execution_count": null,
   "metadata": {},
   "outputs": [],
   "source": []
  },
  {
   "cell_type": "code",
   "execution_count": 48,
   "metadata": {},
   "outputs": [
    {
     "data": {
      "text/plain": [
       "<AxesSubplot:xlabel='Sex', ylabel='count'>"
      ]
     },
     "execution_count": 48,
     "metadata": {},
     "output_type": "execute_result"
    },
    {
     "data": {
      "image/png": "[encoded data removed]",
      "text/plain": [
       "<Figure size 432x288 with 1 Axes>"
      ]
     },
     "metadata": {
      "needs_background": "light"
     },
     "output_type": "display_data"
    }
   ],
   "source": [
    "sns.countplot(x='Sex',hue = 'HeartDisease',data=df, palette = \"crest_r\")"
   ]
  },
  {
   "cell_type": "code",
   "execution_count": 46,
   "metadata": {},
   "outputs": [
    {
     "data": {
      "text/plain": [
       "<AxesSubplot:xlabel='ChestPainType', ylabel='count'>"
      ]
     },
     "execution_count": 46,
     "metadata": {},
     "output_type": "execute_result"
    },
    {
     "data": {
      "image/png": "[encoded data removed]",
      "text/plain": [
       "<Figure size 432x288 with 1 Axes>"
      ]
     },
     "metadata": {
      "needs_background": "light"
     },
     "output_type": "display_data"
    }
   ],
   "source": [
    "sns.countplot(x='ChestPainType',hue = 'HeartDisease',data=df,palette = \"plasma\")"
   ]
  },
  {
   "cell_type": "code",
   "execution_count": null,
   "metadata": {},
   "outputs": [],
   "source": []
  },
  {
   "cell_type": "code",
   "execution_count": 8,
   "metadata": {},
   "outputs": [],
   "source": [
    "list_of_object = list(df.select_dtypes(include=\"object\").columns)\n",
    "list_of_int = list( df.select_dtypes(exclude=\"object\").columns)"
   ]
  },
  {
   "cell_type": "code",
   "execution_count": 9,
   "metadata": {},
   "outputs": [
    {
     "data": {
      "text/plain": [
       "['Sex', 'ChestPainType', 'RestingECG', 'ExerciseAngina', 'ST_Slope']"
      ]
     },
     "execution_count": 9,
     "metadata": {},
     "output_type": "execute_result"
    }
   ],
   "source": [
    "list_of_object"
   ]
  },
  {
   "cell_type": "code",
   "execution_count": 10,
   "metadata": {},
   "outputs": [
    {
     "data": {
      "text/plain": [
       "['Age',\n",
       " 'RestingBP',\n",
       " 'Cholesterol',\n",
       " 'FastingBS',\n",
       " 'MaxHR',\n",
       " 'Oldpeak',\n",
       " 'HeartDisease']"
      ]
     },
     "execution_count": 10,
     "metadata": {},
     "output_type": "execute_result"
    }
   ],
   "source": [
    "list_of_int"
   ]
  },
  {
   "cell_type": "code",
   "execution_count": 11,
   "metadata": {},
   "outputs": [],
   "source": [
    "def category_onehot_multcols(multcolumns):\n",
    "    df_final=final_df\n",
    "    i=0\n",
    "    for fields in multcolumns:\n",
    "        \n",
    "        print(fields)\n",
    "        df1=pd.get_dummies(final_df[fields],drop_first=True)\n",
    "        \n",
    "        final_df.drop([fields],axis=1,inplace=True)\n",
    "        if i==0:\n",
    "            df_final=df1.copy()\n",
    "        else:\n",
    "            \n",
    "            df_final=pd.concat([df_final,df1],axis=1)\n",
    "        i=i+1\n",
    "       \n",
    "        \n",
    "    df_final=pd.concat([final_df,df_final],axis=1)\n",
    "        \n",
    "    return df_final"
   ]
  },
  {
   "cell_type": "code",
   "execution_count": 22,
   "metadata": {},
   "outputs": [],
   "source": [
    "df = df.copy()"
   ]
  },
  {
   "cell_type": "code",
   "execution_count": 23,
   "metadata": {},
   "outputs": [],
   "source": [
    "final_df =df.loc[:,~df.columns.duplicated()]"
   ]
  },
  {
   "cell_type": "code",
   "execution_count": 24,
   "metadata": {},
   "outputs": [
    {
     "name": "stdout",
     "output_type": "stream",
     "text": [
      "Sex\n",
      "ChestPainType\n",
      "RestingECG\n",
      "ExerciseAngina\n",
      "ST_Slope\n"
     ]
    }
   ],
   "source": [
    "main_df = category_onehot_multcols(list_of_object)"
   ]
  },
  {
   "cell_type": "code",
   "execution_count": 30,
   "metadata": {},
   "outputs": [
    {
     "data": {
      "text/plain": [
       "(918, 16)"
      ]
     },
     "execution_count": 30,
     "metadata": {},
     "output_type": "execute_result"
    }
   ],
   "source": [
    "main_df.shape"
   ]
  },
  {
   "cell_type": "code",
   "execution_count": 31,
   "metadata": {},
   "outputs": [],
   "source": [
    "df_train = final_df.iloc[:500,:]"
   ]
  },
  {
   "cell_type": "code",
   "execution_count": 32,
   "metadata": {},
   "outputs": [],
   "source": [
    "df_test = final_df.iloc[501:,:]"
   ]
  },
  {
   "cell_type": "code",
   "execution_count": 33,
   "metadata": {},
   "outputs": [
    {
     "name": "stderr",
     "output_type": "stream",
     "text": [
      "C:\\Users\\sachin.khewadiya\\Anaconda3\\lib\\site-packages\\pandas\\core\\frame.py:4163: SettingWithCopyWarning: \n",
      "A value is trying to be set on a copy of a slice from a DataFrame\n",
      "\n",
      "See the caveats in the documentation: https://pandas.pydata.org/pandas-docs/stable/user_guide/indexing.html#returning-a-view-versus-a-copy\n",
      "  return super().drop(\n"
     ]
    }
   ],
   "source": [
    "df_test.drop([\"HeartDisease\"],axis = 1, inplace = True)"
   ]
  },
  {
   "cell_type": "code",
   "execution_count": 34,
   "metadata": {},
   "outputs": [],
   "source": [
    "X_train=df_train.drop(['HeartDisease'],axis=1)\n",
    "y_train=df_train['HeartDisease']"
   ]
  },
  {
   "cell_type": "code",
   "execution_count": 35,
   "metadata": {},
   "outputs": [
    {
     "data": {
      "text/plain": [
       "XGBRegressor(base_score=0.5, booster='gbtree', colsample_bylevel=1,\n",
       "             colsample_bynode=1, colsample_bytree=1, gamma=0, gpu_id=-1,\n",
       "             importance_type='gain', interaction_constraints='',\n",
       "             learning_rate=0.300000012, max_delta_step=0, max_depth=6,\n",
       "             min_child_weight=1, missing=nan, monotone_constraints='()',\n",
       "             n_estimators=100, n_jobs=8, num_parallel_tree=1, random_state=0,\n",
       "             reg_alpha=0, reg_lambda=1, scale_pos_weight=1, subsample=1,\n",
       "             tree_method='exact', validate_parameters=1, verbosity=None)"
      ]
     },
     "execution_count": 35,
     "metadata": {},
     "output_type": "execute_result"
    }
   ],
   "source": [
    "import xgboost\n",
    "classifier=xgboost.XGBRegressor()\n",
    "classifier.fit(X_train,y_train)"
   ]
  },
  {
   "cell_type": "code",
   "execution_count": 36,
   "metadata": {},
   "outputs": [],
   "source": [
    "y_pred=classifier.predict(df_test)"
   ]
  },
  {
   "cell_type": "code",
   "execution_count": 37,
   "metadata": {},
   "outputs": [
    {
     "data": {
      "text/plain": [
       "array([ 0.0625347 ,  0.9898923 , -0.15290849,  0.9160529 ,  0.9925016 ,\n",
       "        0.87876725, -0.22059976,  1.2329332 ,  0.1088094 , -0.03456064,\n",
       "        1.0325943 ,  0.0247003 ,  0.5710785 ,  0.9301412 ,  0.7930414 ,\n",
       "        0.7417533 ,  0.9052049 ,  0.9337332 ,  0.5911389 ,  0.32473242,\n",
       "        0.7089556 ,  0.8955602 ,  0.79210734,  0.12076005, -0.08467597,\n",
       "        0.6994525 ,  0.333598  ,  0.9180679 ,  0.8165081 ,  1.0243335 ,\n",
       "        1.1215158 ,  0.68129677,  0.38542917,  1.1462481 ,  0.83083415,\n",
       "        1.094765  ,  0.956494  ,  1.0034581 ,  0.03513301,  0.9398459 ,\n",
       "        0.940411  ,  0.9740873 ,  0.8675292 ,  0.61743665, -0.01193895,\n",
       "        0.01855915,  0.9138802 ,  0.3351826 ,  0.5548532 ,  0.9491511 ,\n",
       "       -0.00166411,  0.84234935,  0.9068704 ,  0.10244045,  0.2040756 ,\n",
       "        0.7612386 ,  0.96133786,  0.95817506,  0.9270716 ,  0.09647454,\n",
       "        0.14242058,  0.40659383,  0.979915  ,  0.7842528 ,  0.82726884,\n",
       "        0.946414  ,  0.82108265,  1.2737093 ,  0.9250093 ,  0.9804945 ,\n",
       "        0.99574953,  0.3432719 ,  0.85274106,  0.90612257,  0.9453516 ,\n",
       "        0.9588418 ,  1.1428401 ,  0.93214244,  1.1396078 ,  0.7783759 ,\n",
       "        0.44545102,  0.66558063,  0.47280034,  1.1982278 ,  0.72432554,\n",
       "        0.6000619 ,  0.34085637,  1.0402064 ,  0.8070592 ,  0.4451002 ,\n",
       "        0.00160863,  1.0044998 ,  0.51547146,  0.9449427 ,  1.0070304 ,\n",
       "        0.0605365 ,  0.05850851,  0.53876734,  0.6995737 ,  0.6453319 ,\n",
       "        0.7991514 , -0.20939651,  0.230262  ,  0.60506755,  0.7767067 ,\n",
       "        0.97238827,  0.9115571 , -0.2524347 ,  0.2617938 ,  0.04540012,\n",
       "       -0.0077957 ,  0.2655502 ,  0.69004494, -0.20818573,  0.5881409 ,\n",
       "        0.01104776,  0.20548347,  0.27519152,  0.5281845 ,  0.21635185,\n",
       "        0.6106071 ,  0.21204236,  0.4599296 ,  0.48506287,  0.11892392,\n",
       "        0.5281879 , -0.01879527,  1.0284445 ,  0.1205792 ,  0.8747263 ,\n",
       "        0.6043091 ,  0.96083194,  0.47080272,  0.61611944,  0.6108555 ,\n",
       "        0.01145075,  0.5004844 ,  0.13915388,  0.14553769,  0.03070373,\n",
       "        0.12065549,  0.37639892,  0.7592675 ,  0.8615122 ,  0.04589209,\n",
       "        0.77623117,  0.1237923 ,  0.68832767,  0.46401262,  0.25587887,\n",
       "        0.6456678 , -0.05621428,  0.04805621, -0.03002963, -0.14625314,\n",
       "        0.07893833, -0.10613283,  0.5109301 ,  0.844957  ,  0.41726533,\n",
       "        0.49441758,  0.25219074,  0.49992058,  0.90108436,  0.7239139 ,\n",
       "        0.49509427,  0.91999847,  0.37044013, -0.12785286,  0.48457542,\n",
       "        1.2361954 ,  0.74713796,  0.02853567,  0.8116164 ,  0.4330873 ,\n",
       "        0.13021065, -0.01294027,  0.07440855,  0.9865203 , -0.0032766 ,\n",
       "        0.06801485,  0.24084306,  0.50268507, -0.05230082,  0.49223256,\n",
       "       -0.17194225,  0.7397363 ,  0.9337298 ,  0.35380688,  0.11794353,\n",
       "        0.57171476,  0.18586725, -0.07008301,  0.13718216,  0.982223  ,\n",
       "        0.6679966 ,  0.4273888 ,  0.45858902,  0.56477296, -0.04997825,\n",
       "        0.6113949 ,  0.96159226, -0.20318514,  0.94608754, -0.14859836,\n",
       "       -0.20005032,  0.32746002,  0.15041964,  0.6479953 ,  0.86683315,\n",
       "        0.3079911 ,  0.13925466,  0.29321906,  0.05666905,  0.19653791,\n",
       "        0.8365111 ,  0.22820757,  0.9772071 ,  0.45722926,  0.19769825,\n",
       "       -0.05954116,  0.7846429 , -0.0797432 , -0.04417046,  0.6094627 ,\n",
       "       -0.06340808, -0.3334474 ,  0.2480066 ,  0.01418251,  0.11635389,\n",
       "        0.25144145,  1.1248448 ,  0.9952045 ,  0.94360065, -0.02125916,\n",
       "        0.821221  ,  0.9776648 ,  0.01918475,  0.15208487,  0.01440361,\n",
       "        0.6534553 ,  0.4638462 ,  0.37359336,  0.36541104,  0.46274564,\n",
       "        0.39927745, -0.11256948,  0.68794626,  0.42825615,  0.5081477 ,\n",
       "        0.53837717,  0.95619816,  0.30869845,  0.46690416,  0.63079005,\n",
       "       -0.1376432 ,  0.15815741,  0.9635748 ,  0.02044496,  0.49130026,\n",
       "       -0.0653429 ,  0.73727983,  0.79775864,  0.5862122 ,  0.05164037,\n",
       "        0.03952431,  0.3602184 ,  0.6743832 ,  0.3983171 ,  0.677759  ,\n",
       "        0.90799254, -0.03473574,  0.09674344,  0.713067  ,  1.1264284 ,\n",
       "        0.38130733,  0.0943211 ,  0.86201334,  0.10077481,  0.39004073,\n",
       "       -0.02281918,  0.91371876,  0.00416366,  0.9287806 ,  0.7909452 ,\n",
       "        0.8680433 ,  0.88529515,  0.98901194,  0.25916165,  1.2335788 ,\n",
       "        0.9293024 ,  0.72950697,  0.46715719,  0.17353188,  0.83937633,\n",
       "        0.6270118 ,  0.21852599,  0.34063035,  0.3995117 , -0.04504902,\n",
       "        0.749625  , -0.02210171,  0.29845414,  0.8152855 ,  0.42879292,\n",
       "        1.2343138 ,  0.08123382,  0.37279174,  0.3553999 ,  0.43098202,\n",
       "        0.6909442 ,  0.2664502 ,  0.46270338,  0.39224157,  0.8931521 ,\n",
       "        0.11090104,  0.6773378 ,  0.43641204,  0.59779525,  0.7737746 ,\n",
       "       -0.0139724 ,  0.08471484, -0.02762909,  0.68722326,  0.01493379,\n",
       "        0.7923065 ,  0.04776583,  0.52926093,  0.25755966,  0.36466601,\n",
       "        0.20168623, -0.18618691,  0.18473463,  0.01053769,  0.751496  ,\n",
       "        0.9123123 ,  0.3540998 ,  0.854295  ,  0.5905336 , -0.04612838,\n",
       "        0.9281454 ,  1.2420584 ,  0.69349664,  0.67366326,  0.28614303,\n",
       "        0.33217433,  0.5012116 , -0.03908096,  0.42122266,  0.8254082 ,\n",
       "        0.04607853,  0.92132354,  0.15848126, -0.06665333,  1.0412902 ,\n",
       "       -0.01769757,  0.42847627,  1.0176488 ,  0.20560297,  0.43788317,\n",
       "        0.11104701,  0.6925188 ,  0.91122043,  1.0537989 ,  0.60110366,\n",
       "       -0.04721335,  0.84633875,  0.20377378,  1.1285067 ,  0.40436685,\n",
       "        0.85324067,  0.27144596,  0.2566057 ,  0.43194228, -0.12193506,\n",
       "        0.6718768 ,  0.2340655 ,  0.43378738, -0.00257496,  0.49270064,\n",
       "       -0.03168728,  0.5771282 ,  0.12609208,  1.1884387 ,  0.675827  ,\n",
       "       -0.01994986,  0.6404885 ,  1.0014497 ,  0.28390175,  0.3150947 ,\n",
       "        0.48660555, -0.01226504, -0.08967449, -0.00813511,  0.25509965,\n",
       "       -0.00357629,  0.7448787 , -0.00678542, -0.02211841,  0.41368923,\n",
       "        0.99683857,  0.6370223 , -0.1062386 ,  0.18550909,  0.70518935,\n",
       "       -0.05245226,  0.4426673 ,  0.849424  ,  0.53304636,  0.52017015,\n",
       "        0.9822113 ,  0.05836897,  0.25136825,  0.7924169 ,  0.96749705,\n",
       "       -0.01912428,  0.16754112], dtype=float32)"
      ]
     },
     "execution_count": 37,
     "metadata": {},
     "output_type": "execute_result"
    }
   ],
   "source": [
    "y_pred"
   ]
  },
  {
   "cell_type": "code",
   "execution_count": 38,
   "metadata": {},
   "outputs": [
    {
     "name": "stdout",
     "output_type": "stream",
     "text": [
      "99.90415281668731 %\n"
     ]
    }
   ],
   "source": [
    "#  find the accuracy of the model.\n",
    "accuracy = classifier.score(X_train,y_train)\n",
    "print(accuracy*100,'%')"
   ]
  },
  {
   "cell_type": "code",
   "execution_count": null,
   "metadata": {},
   "outputs": [],
   "source": []
  }
 ],
 "metadata": {
  "kernelspec": {
   "display_name": "Python 3",
   "language": "python",
   "name": "python3"
  },
  "language_info": {
   "codemirror_mode": {
    "name": "ipython",
    "version": 3
   },
   "file_extension": ".py",
   "mimetype": "text/x-python",
   "name": "python",
   "nbconvert_exporter": "python",
   "pygments_lexer": "ipython3",
   "version": "3.8.5"
  }
 },
 "nbformat": 4,
 "nbformat_minor": 4
}
